{
 "cells": [
  {
   "attachments": {},
   "cell_type": "markdown",
   "metadata": {},
   "source": [
    "## Generate images with salt and pepper noise\n",
    "Generates salt/pepper noise on top of all images in a folder. Used on our zebra images to generate noisy versions. from the original zebra images"
   ]
  },
  {
   "cell_type": "code",
   "execution_count": 10,
   "metadata": {},
   "outputs": [],
   "source": [
    "from PIL import Image\n",
    "import numpy as np\n",
    "from skimage.util import random_noise"
   ]
  },
  {
   "cell_type": "code",
   "execution_count": 11,
   "metadata": {},
   "outputs": [],
   "source": [
    "# Function for adding noise\n",
    "def add_noise(im, amount=0.5):\n",
    "    im_arr = np.asarray(im)\n",
    "    \n",
    "    noise_img = random_noise(im_arr, mode='s&p', amount=amount)\n",
    "    noise_img = (255*noise_img).astype(np.uint8)\n",
    "\n",
    "    return Image.fromarray(noise_img)"
   ]
  },
  {
   "cell_type": "code",
   "execution_count": 15,
   "metadata": {},
   "outputs": [
    {
     "name": "stderr",
     "output_type": "stream",
     "text": [
      "120it [00:03, 31.57it/s]\n"
     ]
    }
   ],
   "source": [
    "import os\n",
    "from tqdm import tqdm\n",
    "\n",
    "NOISE = 80 # pct\n",
    "\n",
    "input_path = os.getcwd() + \"/data/data_no_noise/zebra/\"\n",
    "output_path = os.getcwd() + f\"/data/data_noise{NOISE}/zebra/\"\n",
    "\n",
    "for i, filename in tqdm(enumerate(os.listdir(input_path))):\n",
    "    im = Image.open(input_path + filename)\n",
    "    im = add_noise(im, amount=0.01*NOISE)\n",
    "    im.save(output_path + filename)"
   ]
  }
 ],
 "metadata": {
  "kernelspec": {
   "display_name": "Python 3.9.7 ('base')",
   "language": "python",
   "name": "python3"
  },
  "language_info": {
   "codemirror_mode": {
    "name": "ipython",
    "version": 3
   },
   "file_extension": ".py",
   "mimetype": "text/x-python",
   "name": "python",
   "nbconvert_exporter": "python",
   "pygments_lexer": "ipython3",
   "version": "3.9.7 (default, Sep 16 2021, 08:50:36) \n[Clang 10.0.0 ]"
  },
  "orig_nbformat": 4,
  "vscode": {
   "interpreter": {
    "hash": "98e209c0c079eda3a7c6693f6d47ddaebb956ef4ec9d4998363437f41a2e508b"
   }
  }
 },
 "nbformat": 4,
 "nbformat_minor": 2
}
