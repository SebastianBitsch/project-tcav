{
 "cells": [
  {
   "attachments": {},
   "cell_type": "markdown",
   "metadata": {},
   "source": [
    "# Rename images for consistency\n",
    "Small helper notebook for renaming images in a folder. Useful when indexing\n",
    "\n",
    "Renames images to 0.jpg, 1.jpg, 2.jpg .... etc."
   ]
  },
  {
   "cell_type": "code",
   "execution_count": 3,
   "metadata": {},
   "outputs": [],
   "source": [
    "import os\n",
    "\n",
    "before = os.getcwd() + \"/data/data_no_noise/zebra/\"\n",
    "after = os.getcwd() + \"/data/data_noise10/zebra/\"\n",
    "\n",
    "# Renames images to 0.jpg, 1.jpg, 2.jpg .... etc.\n",
    "for i, filename in enumerate(os.listdir(before)):\n",
    "    os.rename(before + filename, after + str(i) + \".jpg\")"
   ]
  }
 ],
 "metadata": {
  "kernelspec": {
   "display_name": "Python 3.9.6",
   "language": "python",
   "name": "python3"
  },
  "language_info": {
   "codemirror_mode": {
    "name": "ipython",
    "version": 3
   },
   "file_extension": ".py",
   "mimetype": "text/x-python",
   "name": "python",
   "nbconvert_exporter": "python",
   "pygments_lexer": "ipython3",
   "version": "3.9.6 | packaged by conda-forge | (default, Jul 11 2021, 03:35:11) \n[Clang 11.1.0 ]"
  },
  "orig_nbformat": 4,
  "vscode": {
   "interpreter": {
    "hash": "c6e4e9f98eb68ad3b7c296f83d20e6de614cb42e90992a65aa266555a3137d0d"
   }
  }
 },
 "nbformat": 4,
 "nbformat_minor": 2
}
